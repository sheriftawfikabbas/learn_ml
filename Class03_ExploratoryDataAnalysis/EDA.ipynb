{
 "cells": [
  {
   "cell_type": "markdown",
   "metadata": {
    "id": "nN1j9xzP_O6U"
   },
   "source": [
    "# Exploratory data analysis\n",
    "\n",
    "By: Sherif Abdulkader Tawfik Abbas\n",
    "- https://scholar.google.com/citations?user=NhT7vZIAAAAJ\n",
    "- https://www.linkedin.com/in/sheriftawfik/\n",
    "\n",
    "Topics we will cover:\n",
    "- Introduction to data engineering\n",
    "- Number cruncher: the `numpy` library\n",
    "  - `numpy` arrays\n",
    "  - Array operations\n",
    "  - `numpy` mathematical functions\n",
    "- Data work horse: `pandas`\n",
    "  - The `pandas` `DataFrame` object\n",
    "  - Loading and saving CSV files\n",
    "- Text manipulation in python\n",
    "\n"
   ]
  }
 ],
 "metadata": {
  "colab": {
   "authorship_tag": "ABX9TyMq+tWShocQCyZE/zCD8OQb",
   "collapsed_sections": [],
   "name": "PythonForMachineLearning.ipynb",
   "provenance": [
    {
     "file_id": "1p6ORktVuni6dhGLB70WM_PLbdPvrDh_N",
     "timestamp": 1592230438659
    }
   ]
  },
  "kernelspec": {
   "display_name": "Python 3.10.10 64-bit (microsoft store)",
   "language": "python",
   "name": "python3"
  },
  "language_info": {
   "codemirror_mode": {
    "name": "ipython",
    "version": 3
   },
   "file_extension": ".py",
   "mimetype": "text/x-python",
   "name": "python",
   "nbconvert_exporter": "python",
   "pygments_lexer": "ipython3",
   "version": "3.10.10"
  },
  "vscode": {
   "interpreter": {
    "hash": "d2e20998373b3ba55d021e7b750bba8ad6332631440dca8b57ebc8d3d38236c0"
   }
  }
 },
 "nbformat": 4,
 "nbformat_minor": 1
}
