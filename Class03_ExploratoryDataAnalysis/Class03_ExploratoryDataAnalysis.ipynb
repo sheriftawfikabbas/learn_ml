{
 "cells": [
  {
   "cell_type": "markdown",
   "metadata": {
    "id": "nN1j9xzP_O6U"
   },
   "source": [
    "# Exploratory data analysis\n",
    "\n",
    "By: Sherif Abdulkader Tawfik Abbas\n",
    "- https://scholar.google.com/citations?user=NhT7vZIAAAAJ\n",
    "- https://www.linkedin.com/in/sheriftawfik/\n",
    "\n",
    "Topics we will cover:\n",
    "- Introduction to data engineering\n",
    "- Number cruncher: the `numpy` library\n",
    "  - `numpy` arrays\n",
    "  - Array operations\n",
    "  - `numpy` mathematical functions\n",
    "- Data work horse: `pandas`\n",
    "  - The `pandas` `DataFrame` object\n",
    "  - Loading and saving CSV files\n",
    "- Text manipulation in python\n",
    "\n"
   ]
  }
 ],
 "metadata": {
  "colab": {
   "authorship_tag": "ABX9TyMq+tWShocQCyZE/zCD8OQb",
   "collapsed_sections": [],
   "name": "PythonForMachineLearning.ipynb",
   "provenance": [
    {
     "file_id": "1p6ORktVuni6dhGLB70WM_PLbdPvrDh_N",
     "timestamp": 1592230438659
    }
   ]
  },
  "kernelspec": {
   "display_name": "Python 3.8.5 64-bit",
   "language": "python",
   "name": "python3"
  },
  "language_info": {
   "codemirror_mode": {
    "name": "ipython",
    "version": 3
   },
   "file_extension": ".py",
   "mimetype": "text/x-python",
   "name": "python",
   "nbconvert_exporter": "python",
   "pygments_lexer": "ipython3",
   "version": "3.8.5"
  },
  "vscode": {
   "interpreter": {
    "hash": "31f2aee4e71d21fbe5cf8b01ff0e069b9275f58929596ceb00d14d90e3e16cd6"
   }
  }
 },
 "nbformat": 4,
 "nbformat_minor": 1
}
