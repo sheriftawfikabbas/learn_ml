{
 "cells": [
  {
   "cell_type": "markdown",
   "metadata": {
    "id": "nN1j9xzP_O6U"
   },
   "source": [
    "# Data engineering\n",
    "\n",
    "By: Sherif Abdulkader Tawfik Abbas\n",
    "- https://scholar.google.com/citations?user=NhT7vZIAAAAJ\n",
    "- https://www.linkedin.com/in/sheriftawfik/\n",
    "\n",
    "Topics we will cover:\n",
    "- Introduction to data engineering\n",
    "- Number cruncher: the `numpy` library\n",
    "  - `numpy` arrays\n",
    "  - Array operations\n",
    "  - `numpy` mathematical functions\n",
    "- Data work horse: `pandas`\n",
    "  - The `pandas` `DataFrame` object\n",
    "  - Loading and saving CSV files\n",
    "- Text manipulation in python\n",
    "\n"
   ]
  },
  {
   "cell_type": "markdown",
   "metadata": {
    "id": "Cs1si7KIMTeb"
   },
   "source": [
    "## Introduction to data engineering\n",
    "\n",
    "Machine learning uses data to train a machine learning model to perform a predictive task. The data that machine learning models are different from the data that a human can process. Humans can read text on a website and understand the text based on the rules of grammer, as well as by commonsense. Here are two examples:\n",
    "\n",
    "\n",
    "### Example 1: Numerical data\n",
    "\n",
    "Let's say we want to pass the global temperature data into a machine learning model, to train it to predict the global temperature in 20 years time. The data looks like this:\n",
    "\n",
    "```\n",
    "%                  Monthly          Annual          Five-year        Ten-year        Twenty-year\n",
    "% Year, Month,  Anomaly, Unc.,   Anomaly, Unc.,   Anomaly, Unc.,   Anomaly, Unc.,   Anomaly, Unc.\n",
    " \n",
    "  1751    12    -2.169  3.365    -1.153    NaN       NaN    NaN       NaN    NaN       NaN    NaN\n",
    "  1752     1    -3.587  3.193    -1.157  1.358       NaN    NaN       NaN    NaN       NaN    NaN\n",
    "  1752     2     1.556  4.577    -1.208  1.381       NaN    NaN       NaN    NaN       NaN    NaN\n",
    "  1752     3    -0.292  2.431       NaN    NaN       NaN    NaN       NaN    NaN       NaN    NaN\n",
    "  1752     4    -1.894  1.592       NaN    NaN       NaN    NaN       NaN    NaN       NaN    NaN\n",
    "  1752     5    -0.422  1.465       NaN    NaN       NaN    NaN       NaN    NaN       NaN    NaN\n",
    "  1752     6     0.115  1.426       NaN    NaN       NaN    NaN       NaN    NaN       NaN    NaN\n",
    "  1752     7     0.760  1.319       NaN    NaN       NaN    NaN       NaN    NaN       NaN    NaN\n",
    "  1752     8    -0.958  1.273       NaN    NaN       NaN    NaN       NaN    NaN       NaN    NaN\n",
    "  1752     9       NaN    NaN       NaN    NaN       NaN    NaN       NaN    NaN       NaN    NaN\n",
    "  1752    10    -1.639  1.640       NaN    NaN       NaN    NaN       NaN    NaN       NaN    NaN\n",
    "```\n",
    "\n",
    "The data can be obtained from the [link](http://berkeleyearth.lbl.gov/auto/Global/Complete_TAVG_complete.txt), and will be examined in Case Study 01 of this course. For every month (the first column), the temperature anomaly (the difference in temperature) is recorded. But for some records, the the temperature is `NaN` which stands for \"not a number\". To pass the above table to a machine:\n",
    "\n",
    "- First, we need to transform the above format into a format that the machine can process, such as the CSV format.\n",
    "- Second, for `NaN` values, we should substitute them with numerical values. This is called \"data imputation\".\n",
    "\n",
    "### Example 2: Natural language processing\n",
    "```\n",
    "Foreign Affairs Minister Penny Wong has asked Optus to cover passport application fees for anyone caught up in last week's massive data breach, which affected millions of Australians.\n",
    "```\n",
    "\n",
    "How does the human brain comprehend the above sentence? It applies rules of syntax, or grammar. The initial of Penny is upper-case, so we understand it's a name of a person. We know Optus is a company, not a person, so we won' be confused by \"asked Optus\"; we know Optus is not a person. We know \"caught up\" means \"involved\". We have some idea about last week's security breach that has hit the Optus servers. Finally, we know the sentence ended because of the full-stop.\n",
    "\n",
    "Is that how a machine would understand the above text? The machine needs to know the structure of the sentence: whether it is a simple or a complex sentence, the clauses in the sentence, the objects (Penny, Optus, Australians data breach) and the verbs (cover, affected).\n",
    "\n",
    "However, the machine does not read the text like we read it: the machine wants to translate that text into a numerical form first, and then process the numbers. As an example of a numerical form: representing each two consecutive words by a number. For example:\n",
    "\n",
    "| Two words | Number |\n",
    "| --- | --- |\n",
    "| has asked | 1 |\n",
    "| caught up | 2 |\n",
    "| which affected | 3 |\n",
    "\n",
    "What if we find \"which affects\", \"have asked\", and \"catch up\"? The meaning of \"have asked\" is the same as \"has asked\", but is different because of the word that comes before those two words. Given they have the same meaning, it makes more sense to represent them with the same number.\n",
    "\n",
    "Therefore, before translating the words and sentences into numbers, we need to make things less confusing to the machine:\n",
    "- plurals, such as \"fees\" and \"millions\", become singular\n",
    "- different forms of a verb, such as \"have\" and \"has\", should be represented as one verb, such as \"have\"\n",
    "- we should remove commas, full stops, etc., because they are not part of the vocabulary \n",
    "\n",
    "The modifications to the data in the above two examples are known as data preprocessing, or data pruning, or more generally data engineering.\n",
    "\n",
    "Data engineering is the process of preparing data for machine learning. In python, it involves the use of several python modules, including `numpy` and `pandas`, to efficiently prepare the data.\n",
    "\n",
    "In this class, you will learn how to use these modules to prepare numerical and text data.\n",
    "\n",
    "## Number cruncher: the numpy library\n",
    "\n",
    "`numpy` is one of the richest and most popular libraries in python. You can have a look at the wide range of mathematical functions in `numpy` here: https://numpy.org/doc/1.18/reference/index.html. `numpy` is particular popular because of its data structure the \"numpy array\". It allows flexibility in generating arrays and operating on arrays using mathematical functions.\n",
    "\n",
    "Here, we will deal with two main features in `numpy`: the numpy array and mathematical functions.\n",
    "\n",
    "### numpy arrays\n",
    "\n",
    "`numpy` has a special collection type, the `numpy array`, which is far more suitable for performing numberical computations than python's default collection types. The important feature that distinguishes a `numpy array` from, say a python `list`, is the ability to perform element-wise operations. \n",
    "\n",
    "Let's start by creating an array of 3 numbers: 4,6 and 7. \n"
   ]
  },
  {
   "cell_type": "code",
   "execution_count": null,
   "metadata": {
    "colab": {
     "base_uri": "https://localhost:8080/",
     "height": 34
    },
    "executionInfo": {
     "elapsed": 825,
     "status": "ok",
     "timestamp": 1592278938520,
     "user": {
      "displayName": "Sherif Tawfik",
      "photoUrl": "https://lh6.googleusercontent.com/-pkq2qTyEGvM/AAAAAAAAAAI/AAAAAAAAFoA/jDXaFewCL-s/s64/photo.jpg",
      "userId": "08424006537682359657"
     },
     "user_tz": -600
    },
    "id": "bD9_MJ0VN97D",
    "outputId": "b0207f73-a80d-4b32-8497-45e5ceb561ec"
   },
   "outputs": [
    {
     "name": "stdout",
     "output_type": "stream",
     "text": [
      "[4 6 7]\n"
     ]
    }
   ],
   "source": [
    "import numpy as np\n",
    "a=np.array([4,6,7])\n",
    "print(a)"
   ]
  },
  {
   "cell_type": "markdown",
   "metadata": {
    "id": "EpF4GQAVN-AC"
   },
   "source": [
    "Note the syntax: the `array` function is expecting a python collection type, and here we pass a `list` type.\n",
    "\n",
    "Like in python's lists, we can find the length of the list using the `len()` function. We can also use `len()` in a `numpy array`, but we can also use the `shape()` function as follows:\n"
   ]
  },
  {
   "cell_type": "code",
   "execution_count": null,
   "metadata": {
    "colab": {
     "base_uri": "https://localhost:8080/",
     "height": 34
    },
    "executionInfo": {
     "elapsed": 806,
     "status": "ok",
     "timestamp": 1592279711461,
     "user": {
      "displayName": "Sherif Tawfik",
      "photoUrl": "https://lh6.googleusercontent.com/-pkq2qTyEGvM/AAAAAAAAAAI/AAAAAAAAFoA/jDXaFewCL-s/s64/photo.jpg",
      "userId": "08424006537682359657"
     },
     "user_tz": -600
    },
    "id": "wOMxNtrAOp3O",
    "outputId": "a0d5eff8-981b-4ee5-95d5-21e58dfce354"
   },
   "outputs": [
    {
     "name": "stdout",
     "output_type": "stream",
     "text": [
      "(3,)\n"
     ]
    }
   ],
   "source": [
    "import numpy as np\n",
    "a=np.array([4,6,7])\n",
    "print(a.shape)"
   ]
  },
  {
   "cell_type": "markdown",
   "metadata": {
    "id": "FXzMFqJsOp8d"
   },
   "source": [
    "This means that we have a 1D array, with 3 elements. Let's create a 2D array.\n"
   ]
  },
  {
   "cell_type": "code",
   "execution_count": null,
   "metadata": {
    "colab": {
     "base_uri": "https://localhost:8080/",
     "height": 34
    },
    "executionInfo": {
     "elapsed": 857,
     "status": "ok",
     "timestamp": 1592279776629,
     "user": {
      "displayName": "Sherif Tawfik",
      "photoUrl": "https://lh6.googleusercontent.com/-pkq2qTyEGvM/AAAAAAAAAAI/AAAAAAAAFoA/jDXaFewCL-s/s64/photo.jpg",
      "userId": "08424006537682359657"
     },
     "user_tz": -600
    },
    "id": "NoX39wghRPcZ",
    "outputId": "a69a698a-8ece-49cf-d35b-c94d07eef07c"
   },
   "outputs": [
    {
     "name": "stdout",
     "output_type": "stream",
     "text": [
      "(2, 3)\n"
     ]
    }
   ],
   "source": [
    "import numpy as np\n",
    "a=np.array([[4,6,7],[5,6,7]])\n",
    "print(a.shape)"
   ]
  },
  {
   "cell_type": "markdown",
   "metadata": {
    "id": "zUcK-PmmRPh5"
   },
   "source": [
    "To access the elements of a `numy array`, we also use the bracket notation like we did with python's lists. For example, to get the first row of the above array:\n"
   ]
  },
  {
   "cell_type": "code",
   "execution_count": null,
   "metadata": {
    "colab": {
     "base_uri": "https://localhost:8080/",
     "height": 34
    },
    "executionInfo": {
     "elapsed": 770,
     "status": "ok",
     "timestamp": 1592279856868,
     "user": {
      "displayName": "Sherif Tawfik",
      "photoUrl": "https://lh6.googleusercontent.com/-pkq2qTyEGvM/AAAAAAAAAAI/AAAAAAAAFoA/jDXaFewCL-s/s64/photo.jpg",
      "userId": "08424006537682359657"
     },
     "user_tz": -600
    },
    "id": "4aWJFPHuRkkS",
    "outputId": "7a335e18-12d3-4a6f-fee7-115dafd8c69c"
   },
   "outputs": [
    {
     "name": "stdout",
     "output_type": "stream",
     "text": [
      "[4 6 7]\n"
     ]
    }
   ],
   "source": [
    "import numpy as np\n",
    "a=np.array([[4,6,7],[5,6,7]])\n",
    "print(a[0])"
   ]
  },
  {
   "cell_type": "markdown",
   "metadata": {
    "id": "QSOMvesBRkpN"
   },
   "source": [
    "\n",
    "### Array operations\n",
    "\n",
    "We can do a scalar multiplication of a `numpy array`:"
   ]
  },
  {
   "cell_type": "code",
   "execution_count": null,
   "metadata": {
    "colab": {
     "base_uri": "https://localhost:8080/",
     "height": 51
    },
    "executionInfo": {
     "elapsed": 854,
     "status": "ok",
     "timestamp": 1592279909604,
     "user": {
      "displayName": "Sherif Tawfik",
      "photoUrl": "https://lh6.googleusercontent.com/-pkq2qTyEGvM/AAAAAAAAAAI/AAAAAAAAFoA/jDXaFewCL-s/s64/photo.jpg",
      "userId": "08424006537682359657"
     },
     "user_tz": -600
    },
    "id": "YgjWE4QgRxHE",
    "outputId": "c83526ae-557d-4789-f159-9dba1499e26e"
   },
   "outputs": [
    {
     "name": "stdout",
     "output_type": "stream",
     "text": [
      "[[16 24 28]\n",
      " [20 24 28]]\n"
     ]
    }
   ],
   "source": [
    "import numpy as np\n",
    "a=np.array([[4,6,7],[5,6,7]])\n",
    "print(a*4)"
   ]
  },
  {
   "cell_type": "markdown",
   "metadata": {
    "id": "jWB4u0W_Rxdp"
   },
   "source": [
    "And we can easily perform an element-wise multiplication of two arrays:\n",
    "\n"
   ]
  },
  {
   "cell_type": "code",
   "execution_count": null,
   "metadata": {
    "colab": {
     "base_uri": "https://localhost:8080/",
     "height": 34
    },
    "executionInfo": {
     "elapsed": 758,
     "status": "ok",
     "timestamp": 1592280103406,
     "user": {
      "displayName": "Sherif Tawfik",
      "photoUrl": "https://lh6.googleusercontent.com/-pkq2qTyEGvM/AAAAAAAAAAI/AAAAAAAAFoA/jDXaFewCL-s/s64/photo.jpg",
      "userId": "08424006537682359657"
     },
     "user_tz": -600
    },
    "id": "BVDlEduJSA_a",
    "outputId": "44abc292-10de-4c49-a732-5c2cd979c085"
   },
   "outputs": [
    {
     "name": "stdout",
     "output_type": "stream",
     "text": [
      "[28 48 63]\n"
     ]
    }
   ],
   "source": [
    "import numpy as np\n",
    "a=np.array([4,6,7])\n",
    "b=np.array([7,8,9])\n",
    "print(a*b)"
   ]
  },
  {
   "cell_type": "markdown",
   "metadata": {
    "id": "E05Tzfx5SBRF"
   },
   "source": [
    "Element-wise operations include all of python's arithmetic functions."
   ]
  },
  {
   "cell_type": "code",
   "execution_count": null,
   "metadata": {
    "colab": {
     "base_uri": "https://localhost:8080/",
     "height": 34
    },
    "executionInfo": {
     "elapsed": 821,
     "status": "ok",
     "timestamp": 1592280105976,
     "user": {
      "displayName": "Sherif Tawfik",
      "photoUrl": "https://lh6.googleusercontent.com/-pkq2qTyEGvM/AAAAAAAAAAI/AAAAAAAAFoA/jDXaFewCL-s/s64/photo.jpg",
      "userId": "08424006537682359657"
     },
     "user_tz": -600
    },
    "id": "zcsC-rrhSa14",
    "outputId": "fc4f9856-bea2-4e33-c3ad-388238503bf6"
   },
   "outputs": [
    {
     "name": "stdout",
     "output_type": "stream",
     "text": [
      "[28 48 63] [0.57142857 0.75       0.77777778] [11 14 16] [-3 -2 -2]\n"
     ]
    }
   ],
   "source": [
    "import numpy as np\n",
    "a=np.array([4,6,7])\n",
    "b=np.array([7,8,9])\n",
    "print(a*b,a/b,a+b,a-b)"
   ]
  },
  {
   "cell_type": "markdown",
   "metadata": {
    "id": "JgOlINJSSa6k"
   },
   "source": [
    "What about matrix multiplication? For these, we use the `numpy` function `dot()`:\n",
    "\n"
   ]
  },
  {
   "cell_type": "code",
   "execution_count": null,
   "metadata": {
    "colab": {
     "base_uri": "https://localhost:8080/",
     "height": 85
    },
    "executionInfo": {
     "elapsed": 1249,
     "status": "ok",
     "timestamp": 1592280289104,
     "user": {
      "displayName": "Sherif Tawfik",
      "photoUrl": "https://lh6.googleusercontent.com/-pkq2qTyEGvM/AAAAAAAAAAI/AAAAAAAAFoA/jDXaFewCL-s/s64/photo.jpg",
      "userId": "08424006537682359657"
     },
     "user_tz": -600
    },
    "id": "QyjXHfLDS8p7",
    "outputId": "f6d33214-06fb-46eb-af58-d869e03a5dbf"
   },
   "outputs": [
    {
     "name": "stdout",
     "output_type": "stream",
     "text": [
      "[[ 24 138]\n",
      " [  4  42]]\n",
      "[[ 24 138]\n",
      " [  4  42]]\n"
     ]
    }
   ],
   "source": [
    "import numpy as np\n",
    "a=np.array([[4,6,7],[0,3,2]])\n",
    "b=np.array([[7,9],[4,10],[-4,6]])\n",
    "print(a.dot(b))\n",
    "print(np.dot(a, b))"
   ]
  },
  {
   "cell_type": "markdown",
   "metadata": {
    "id": "RRyTrUzxTVgg"
   },
   "source": [
    "### numpy mathematical functions\n",
    "\n",
    "`numpy` has a huge number of mathematical functions. For a quick overview:\n",
    "- Statistical functions: https://numpy.org/doc/1.18/reference/routines.statistics.html\n",
    "- Mathematical functions, including trigonometry and a lot more: https://numpy.org/doc/1.18/reference/routines.math.html\n",
    "\n",
    "Using these functions with a `numpy array` is pretty straightforward. For example, let's compute the sum, average, maximum, minimum, standard deviation and variance of an array of numbers:"
   ]
  },
  {
   "cell_type": "code",
   "execution_count": null,
   "metadata": {
    "colab": {
     "base_uri": "https://localhost:8080/",
     "height": 34
    },
    "executionInfo": {
     "elapsed": 776,
     "status": "ok",
     "timestamp": 1592280803736,
     "user": {
      "displayName": "Sherif Tawfik",
      "photoUrl": "https://lh6.googleusercontent.com/-pkq2qTyEGvM/AAAAAAAAAAI/AAAAAAAAFoA/jDXaFewCL-s/s64/photo.jpg",
      "userId": "08424006537682359657"
     },
     "user_tz": -600
    },
    "id": "guQ0l3SNUlrF",
    "outputId": "bbbddedd-683b-4a02-a481-09c99da91af6"
   },
   "outputs": [
    {
     "name": "stdout",
     "output_type": "stream",
     "text": [
      "57.1 4.758333333333334 8.0 1.0 2.048356387177019 4.195763888888889\n"
     ]
    }
   ],
   "source": [
    "import numpy as np\n",
    "a=np.array([1,5,4,7,5,3,5.7,3.4,2,6,8,7])\n",
    "print(a.sum(),a.mean(),a.max(),a.min(),a.std(),a.var())"
   ]
  },
  {
   "cell_type": "markdown",
   "metadata": {
    "id": "Y8iwHANxVI5n"
   },
   "source": [
    "Note that these functions are constitute some of the common dscriptive statistical functions that we normally used when we start analyzing numerical data before we perform machine learning computations on them.\n",
    "\n",
    "## Data work horse: `pandas`\n",
    "\n",
    "Another data structure library is `pandas`, which is particularly suited for dealing with tabular data. It has quickly evolved over the years to become the global standar in representing and manipulating data in python.\n",
    "\n",
    "As `numpy` represents data as arrays, `pandas` represent data in the form of a complex object called the `DataFrame`. Think of the `DataFrame` as a database table sheet: it has a name (the variaable name), fields with their titles, and possibly an index field (the primary key). DataFrames are particularly powerful owing to their poowerful querying and data transformation functionalities.\n",
    "\n",
    "Let's create a simple `DataFrame` that represents a table of 2 columns, `fruit` and `price`:"
   ]
  },
  {
   "cell_type": "code",
   "execution_count": null,
   "metadata": {
    "colab": {
     "base_uri": "https://localhost:8080/",
     "height": 85
    },
    "executionInfo": {
     "elapsed": 962,
     "status": "ok",
     "timestamp": 1592281364219,
     "user": {
      "displayName": "Sherif Tawfik",
      "photoUrl": "https://lh6.googleusercontent.com/-pkq2qTyEGvM/AAAAAAAAAAI/AAAAAAAAFoA/jDXaFewCL-s/s64/photo.jpg",
      "userId": "08424006537682359657"
     },
     "user_tz": -600
    },
    "id": "v3K6cfsXXIXa",
    "outputId": "c8c0ab37-a64c-4a95-a840-661d04ea0684"
   },
   "outputs": [
    {
     "name": "stdout",
     "output_type": "stream",
     "text": [
      "    fruit  price\n",
      "0   apple    4.0\n",
      "1  banana    3.5\n",
      "2    pear    2.0\n"
     ]
    }
   ],
   "source": [
    "import pandas as pd\n",
    "p = pd.DataFrame({'fruit':['apple','banana','pear'],'price':[4,3.5,2]})\n",
    "print(p)"
   ]
  },
  {
   "cell_type": "markdown",
   "metadata": {
    "id": "9OTggRerXZo7"
   },
   "source": [
    "Printing a `DataFrame` will format it as an actual table, with an index (the first column that has no title) and fields, each with its designated title.\n",
    "\n",
    "We can retrieve the second row by using the `loc` function:"
   ]
  },
  {
   "cell_type": "code",
   "execution_count": null,
   "metadata": {
    "colab": {
     "base_uri": "https://localhost:8080/",
     "height": 68
    },
    "executionInfo": {
     "elapsed": 926,
     "status": "ok",
     "timestamp": 1592281662053,
     "user": {
      "displayName": "Sherif Tawfik",
      "photoUrl": "https://lh6.googleusercontent.com/-pkq2qTyEGvM/AAAAAAAAAAI/AAAAAAAAFoA/jDXaFewCL-s/s64/photo.jpg",
      "userId": "08424006537682359657"
     },
     "user_tz": -600
    },
    "id": "8JmIqxgVYX4a",
    "outputId": "1724667a-33c2-459f-f09e-da966232c986"
   },
   "outputs": [
    {
     "data": {
      "text/plain": [
       "fruit    banana\n",
       "price       3.5\n",
       "Name: 1, dtype: object"
      ]
     },
     "execution_count": 24,
     "metadata": {
      "tags": []
     },
     "output_type": "execute_result"
    }
   ],
   "source": [
    "p.loc[1]"
   ]
  },
  {
   "cell_type": "markdown",
   "metadata": {
    "id": "iKjJ0Lv6Y2Cz"
   },
   "source": [
    "We can query the `banana` record in this `DataFrame` by using also the `loc` function:\n"
   ]
  },
  {
   "cell_type": "code",
   "execution_count": null,
   "metadata": {
    "colab": {
     "base_uri": "https://localhost:8080/",
     "height": 80
    },
    "executionInfo": {
     "elapsed": 990,
     "status": "ok",
     "timestamp": 1592281780471,
     "user": {
      "displayName": "Sherif Tawfik",
      "photoUrl": "https://lh6.googleusercontent.com/-pkq2qTyEGvM/AAAAAAAAAAI/AAAAAAAAFoA/jDXaFewCL-s/s64/photo.jpg",
      "userId": "08424006537682359657"
     },
     "user_tz": -600
    },
    "id": "rbjo1dMSY534",
    "outputId": "e1f8768f-d2a9-4bbe-f8e9-d6b288087e72"
   },
   "outputs": [
    {
     "data": {
      "text/html": [
       "<div>\n",
       "<style scoped>\n",
       "    .dataframe tbody tr th:only-of-type {\n",
       "        vertical-align: middle;\n",
       "    }\n",
       "\n",
       "    .dataframe tbody tr th {\n",
       "        vertical-align: top;\n",
       "    }\n",
       "\n",
       "    .dataframe thead th {\n",
       "        text-align: right;\n",
       "    }\n",
       "</style>\n",
       "<table border=\"1\" class=\"dataframe\">\n",
       "  <thead>\n",
       "    <tr style=\"text-align: right;\">\n",
       "      <th></th>\n",
       "      <th>fruit</th>\n",
       "      <th>price</th>\n",
       "    </tr>\n",
       "  </thead>\n",
       "  <tbody>\n",
       "    <tr>\n",
       "      <th>1</th>\n",
       "      <td>banana</td>\n",
       "      <td>3.5</td>\n",
       "    </tr>\n",
       "  </tbody>\n",
       "</table>\n",
       "</div>"
      ],
      "text/plain": [
       "    fruit  price\n",
       "1  banana    3.5"
      ]
     },
     "execution_count": 25,
     "metadata": {
      "tags": []
     },
     "output_type": "execute_result"
    }
   ],
   "source": [
    "p.loc[p.fruit == 'banana']"
   ]
  },
  {
   "cell_type": "markdown",
   "metadata": {
    "id": "XmLL_9PQZB4s"
   },
   "source": [
    "Or we can find all records with prices higher than 2:"
   ]
  },
  {
   "cell_type": "code",
   "execution_count": null,
   "metadata": {
    "colab": {
     "base_uri": "https://localhost:8080/",
     "height": 111
    },
    "executionInfo": {
     "elapsed": 806,
     "status": "ok",
     "timestamp": 1592281838940,
     "user": {
      "displayName": "Sherif Tawfik",
      "photoUrl": "https://lh6.googleusercontent.com/-pkq2qTyEGvM/AAAAAAAAAAI/AAAAAAAAFoA/jDXaFewCL-s/s64/photo.jpg",
      "userId": "08424006537682359657"
     },
     "user_tz": -600
    },
    "id": "r2ZkIHEEZHsi",
    "outputId": "fa835717-da60-48c5-98e9-6ee87e4620c3"
   },
   "outputs": [
    {
     "data": {
      "text/html": [
       "<div>\n",
       "<style scoped>\n",
       "    .dataframe tbody tr th:only-of-type {\n",
       "        vertical-align: middle;\n",
       "    }\n",
       "\n",
       "    .dataframe tbody tr th {\n",
       "        vertical-align: top;\n",
       "    }\n",
       "\n",
       "    .dataframe thead th {\n",
       "        text-align: right;\n",
       "    }\n",
       "</style>\n",
       "<table border=\"1\" class=\"dataframe\">\n",
       "  <thead>\n",
       "    <tr style=\"text-align: right;\">\n",
       "      <th></th>\n",
       "      <th>fruit</th>\n",
       "      <th>price</th>\n",
       "    </tr>\n",
       "  </thead>\n",
       "  <tbody>\n",
       "    <tr>\n",
       "      <th>0</th>\n",
       "      <td>apple</td>\n",
       "      <td>4.0</td>\n",
       "    </tr>\n",
       "    <tr>\n",
       "      <th>1</th>\n",
       "      <td>banana</td>\n",
       "      <td>3.5</td>\n",
       "    </tr>\n",
       "  </tbody>\n",
       "</table>\n",
       "</div>"
      ],
      "text/plain": [
       "    fruit  price\n",
       "0   apple    4.0\n",
       "1  banana    3.5"
      ]
     },
     "execution_count": 27,
     "metadata": {
      "tags": []
     },
     "output_type": "execute_result"
    }
   ],
   "source": [
    "p.loc[p.price > 2]"
   ]
  },
  {
   "cell_type": "markdown",
   "metadata": {
    "id": "FejrDhJAZVGg"
   },
   "source": [
    "## Loading and saving CSV files\n",
    "\n",
    "One of the very useful features of `pandas` is the loading and saving of CSV files. To save the above `DataFrame` in CSV format, we just do the following:"
   ]
  },
  {
   "cell_type": "code",
   "execution_count": null,
   "metadata": {
    "id": "anl6L2vhZlSA"
   },
   "outputs": [],
   "source": [
    "p.to_csv('fruits.csv')"
   ]
  },
  {
   "cell_type": "markdown",
   "metadata": {
    "id": "oKSrP35nZvMZ"
   },
   "source": [
    "To read the saved CSV file, it's also quite easy:"
   ]
  },
  {
   "cell_type": "code",
   "execution_count": null,
   "metadata": {
    "colab": {
     "base_uri": "https://localhost:8080/",
     "height": 85
    },
    "executionInfo": {
     "elapsed": 1431,
     "status": "ok",
     "timestamp": 1592294569235,
     "user": {
      "displayName": "Sherif Tawfik",
      "photoUrl": "https://lh6.googleusercontent.com/-pkq2qTyEGvM/AAAAAAAAAAI/AAAAAAAAFoA/jDXaFewCL-s/s64/photo.jpg",
      "userId": "08424006537682359657"
     },
     "user_tz": -600
    },
    "id": "eMzyBNyNZysY",
    "outputId": "7acd331e-b373-41d8-c6d6-31ee64bc0697"
   },
   "outputs": [
    {
     "name": "stdout",
     "output_type": "stream",
     "text": [
      "    fruit  price\n",
      "0   apple    4.0\n",
      "1  banana    3.5\n",
      "2    pear    2.0\n"
     ]
    }
   ],
   "source": [
    "q = pd.read_csv('fruits.csv',index_col=0,header=0)\n",
    "print(q)"
   ]
  },
  {
   "cell_type": "markdown",
   "metadata": {
    "id": "mi8eGAblaF1L"
   },
   "source": [
    "## Text manipulation in python\n",
    "\n",
    "One of the factors that catalyzed the popularity of python has been its versatility in text manipulation.\n",
    "\n",
    "Let's start with a few of python's string functions:\n",
    "\n",
    "- `s.upper()` and `s.lower()`\n",
    "- `s.strip()`\n",
    "- `s.split()` splits a sentence into words, assuming the space character is the separator character.\n",
    "- `s.replace(a,b)` replaces all ocurrances of `a` with `b` in the string `s`\n",
    "- `s.join()` joins all members of a collection into one string, separated by the the string `s`.\n",
    "- `s.isnumeric()` checks if `s` is numeric."
   ]
  },
  {
   "cell_type": "code",
   "execution_count": null,
   "metadata": {
    "colab": {
     "base_uri": "https://localhost:8080/",
     "height": 136
    },
    "executionInfo": {
     "elapsed": 900,
     "status": "ok",
     "timestamp": 1592282447309,
     "user": {
      "displayName": "Sherif Tawfik",
      "photoUrl": "https://lh6.googleusercontent.com/-pkq2qTyEGvM/AAAAAAAAAAI/AAAAAAAAFoA/jDXaFewCL-s/s64/photo.jpg",
      "userId": "08424006537682359657"
     },
     "user_tz": -600
    },
    "id": "kQL_hgWZazq9",
    "outputId": "97662658-7840-494a-fa97-c336dd658d64"
   },
   "outputs": [
    {
     "name": "stdout",
     "output_type": "stream",
     "text": [
      "THIS IS SOME TEXT this is some text\n",
      "   lots of trailing spaces.    \n",
      "lots of trailing spaces.\n",
      "['lots', 'of', 'trailing', 'spaces.']\n",
      "abcxxefxx\n",
      "xabcyabcz\n",
      "False\n"
     ]
    }
   ],
   "source": [
    "a = 'this is some text'\n",
    "print(a.upper(),a.lower())\n",
    "\n",
    "a = '   lots of trailing spaces.    '\n",
    "print(a)\n",
    "print(a.strip())\n",
    "\n",
    "print(a.split())\n",
    "\n",
    "a = 'abcddefdd'\n",
    "print(a.replace('d','x'))\n",
    "\n",
    "print('abc'.join(['x','y','z']))\n",
    "\n",
    "a = '456a'\n",
    "print(a.isnumeric())"
   ]
  },
  {
   "cell_type": "markdown",
   "metadata": {
    "id": "Lek-5kWjbEcx"
   },
   "source": [
    "These functions are very commonly used when we start *pre-processing* text in natural language processing, which is the *text cleaning* step.\n",
    "\n",
    "That's all for this tutorial. In the next tutorial, I will go through more specialized and detailed procedures for data pre-processing."
   ]
  }
 ],
 "metadata": {
  "colab": {
   "authorship_tag": "ABX9TyMq+tWShocQCyZE/zCD8OQb",
   "collapsed_sections": [],
   "name": "PythonForMachineLearning.ipynb",
   "provenance": [
    {
     "file_id": "1p6ORktVuni6dhGLB70WM_PLbdPvrDh_N",
     "timestamp": 1592230438659
    }
   ]
  },
  "kernelspec": {
   "display_name": "Python 3",
   "language": "python",
   "name": "python3"
  },
  "language_info": {
   "codemirror_mode": {
    "name": "ipython",
    "version": 3
   },
   "file_extension": ".py",
   "mimetype": "text/x-python",
   "name": "python",
   "nbconvert_exporter": "python",
   "pygments_lexer": "ipython3",
   "version": "3.8.5"
  }
 },
 "nbformat": 4,
 "nbformat_minor": 1
}
