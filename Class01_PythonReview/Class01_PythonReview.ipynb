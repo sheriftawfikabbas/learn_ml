{
 "cells": [
  {
   "cell_type": "markdown",
   "metadata": {
    "id": "nN1j9xzP_O6U"
   },
   "source": [
    "# Overview of python\n",
    "\n",
    "*By: Sherif Abdulkader Tawfik Abbas, https://scholar.google.com/citations?user=NhT7vZIAAAAJ, https://www.linkedin.com/in/sheriftawfik/\n",
    "\n",
    "Topics we will cover:\n",
    "- Bird's eye view on machine learning\n",
    "- Google Colab\n",
    "- Basic python: \n",
    "  - Variables\n",
    "  - Operations\n",
    "  - Control statements: `if` statement, `for` loop, `while` loop\n",
    "  - Collections: `list`, `tuple`, `dictionary`\n",
    "- Importing python libraries\n",
    "\n",
    "## Introduction\n",
    "\n",
    "Machine learning is about training the machine (a computer program) to make predictions of something. This something could be:\n",
    "- Is this CT scan that of a COVID-19 patient? Here, a category is predicted: a `yes` or a `no`.\n",
    "- Does this image indicate cervical cancer? Again, a category is predicted: a `yes` or a `no`. The machine can sub-categorize several classes of cancer.\n",
    "- What will the temperature be tomorrow? Here, a number is predicted, which is the temperature.\n",
    "\n",
    "In machine learning, you can predict a numerical property, or a categorical property. When you predict a numerical property, the machine learning problem is called a *regression problem*. In the case of a categorical prediction, this is the *classification problem*.\n",
    "\n",
    "In both problems, one needs to process *data* using a programming language. This data comes in many possible forms:\n",
    "- Text data: sequence of characters, words\n",
    "- Numerical data\n",
    "- Images: 2D numerical data\n",
    "- Genome: DNA sequences, which is essentially text data\n",
    "\n",
    "Python has evolved as one of the programming languages that has the richest set of tools for dealing with the above data forms.\n",
    "\n",
    "\n",
    "## Google Colab\n",
    "\n",
    "If you wish to learn to program in python and you don't have python installed on your computer, or you don't wish to struggle with the headache of setting it up, then you can use the Google Colab. This is a website that was developed by Google and is publicly available for anyone to use. It is pretty much an online python compiler, where you can write python code and run it, all on your web browser.\n",
    "\n",
    "This tutorial, as you can see, is already running on Google Colab (let's just call it Colab from now on). On Colab, you can create python **notebooks**, which are known as Jupyter notebooks. Jupyter is a programming environment for python that allows the programmer to write documents, just like this one, where there is both text and code. To demonstrate the placement of code here, check out the below section. This is some python code that prints out the text `\"Hello material science!\"`. Press the play button, and it will run that code, and actually print out `\"Hello material science!\"`."
   ]
  },
  {
   "cell_type": "code",
   "execution_count": null,
   "metadata": {
    "colab": {
     "base_uri": "https://localhost:8080/"
    },
    "executionInfo": {
     "elapsed": 1873,
     "status": "ok",
     "timestamp": 1606972114184,
     "user": {
      "displayName": "Sherif Tawfik",
      "photoUrl": "https://lh6.googleusercontent.com/-pkq2qTyEGvM/AAAAAAAAAAI/AAAAAAAAFoA/jDXaFewCL-s/s64/photo.jpg",
      "userId": "08424006537682359657"
     },
     "user_tz": -660
    },
    "id": "rJEM50iA_D3z",
    "outputId": "ff722cff-18e9-472f-b459-bf1caf1cbc18"
   },
   "outputs": [],
   "source": [
    "print('Hello there!')"
   ]
  },
  {
   "cell_type": "markdown",
   "metadata": {
    "id": "Gdt8pNXPe3_X"
   },
   "source": [
    "Now, let's have a quick overview on python.\n",
    "\n",
    "## Basic python\n",
    "\n",
    "Python is quite a nice and easy language to learn and understand. In fact, it is one of the easiest languages to get you hit the road running. This is because you can virtually run your python code, or script, anywhere: on your laptop or even on your phone. This is thanks to the many online python servers that will allow you to run python code online. \n",
    "\n",
    "Let me give you an example of how simple it is to run python code.\n",
    "\n",
    "### The print statement\n",
    "Let's start with the simplest thing you can do in a program: to ask the computer to print out something, such as `\"Like coffee?\"`\n",
    "\n",
    "How do we get the computer to print out this question on the screen? For that, we use the print statement. This statement orders the computer to print *something* to the screen. That something is called a *string*, which we will deal with shortly.\n",
    "\n",
    "Let's write that code, which will be our first ever line of python code in this course:"
   ]
  },
  {
   "cell_type": "code",
   "execution_count": 4,
   "metadata": {
    "colab": {
     "base_uri": "https://localhost:8080/"
    },
    "executionInfo": {
     "elapsed": 2638,
     "status": "ok",
     "timestamp": 1606972128965,
     "user": {
      "displayName": "Sherif Tawfik",
      "photoUrl": "https://lh6.googleusercontent.com/-pkq2qTyEGvM/AAAAAAAAAAI/AAAAAAAAFoA/jDXaFewCL-s/s64/photo.jpg",
      "userId": "08424006537682359657"
     },
     "user_tz": -660
    },
    "id": "zIiiszkyljsH",
    "outputId": "3b807d76-dd54-46a1-d0bc-549f05ce1c21"
   },
   "outputs": [
    {
     "name": "stdout",
     "output_type": "stream",
     "text": [
      "Like coffee?\n"
     ]
    }
   ],
   "source": [
    "print(\"Like coffee?\")"
   ]
  },
  {
   "cell_type": "markdown",
   "metadata": {
    "id": "2GEd_4_ulkbu"
   },
   "source": [
    "Do you notice something in th above line? It looks different from normal text on this page. It is actually an *executable* line of code! This means that, when you press the play button to the left of the print statement, the program wil actually **run**! That's without needing to install any software on any computer. This is the power of using Google' Colab: it lets you execute python code on the fly.\n",
    "\n",
    "So what just happened? We wrote a print statement, in which we called the print function. It is a function because it receives something, the \"Like coffee?\" text, and then performs some task with the text.\n",
    "\n",
    "Let's try something else. Let's print two sentences:"
   ]
  },
  {
   "cell_type": "code",
   "execution_count": null,
   "metadata": {
    "colab": {
     "base_uri": "https://localhost:8080/",
     "height": 34
    },
    "executionInfo": {
     "elapsed": 2918,
     "status": "ok",
     "timestamp": 1589329355515,
     "user": {
      "displayName": "Sherif Tawfik",
      "photoUrl": "https://lh6.googleusercontent.com/-pkq2qTyEGvM/AAAAAAAAAAI/AAAAAAAAFoA/jDXaFewCL-s/s64/photo.jpg",
      "userId": "08424006537682359657"
     },
     "user_tz": -600
    },
    "id": "wIBmNNraloF8",
    "outputId": "21b7f4e6-3134-4526-a3f9-e4c0dd513595"
   },
   "outputs": [
    {
     "name": "stdout",
     "output_type": "stream",
     "text": [
      "Like coffee? Yes, with milk please!\n"
     ]
    }
   ],
   "source": [
    "print(\"Like coffee?\",\"Yes, with milk please!\")"
   ]
  },
  {
   "cell_type": "markdown",
   "metadata": {
    "id": "bWDjzbdMloRE"
   },
   "source": [
    "You notice what happened here? The print statement received two, not one, strings. They are separated by a comma. The print function then prints both sentences one after the other, leaving a space in between.\n",
    "\n",
    "Now let's try to understand how do we write strings like `\"Like coffee?\"`\n",
    "\n",
    "### Strings\n",
    "\n",
    "A string is any collection of characters, numbers, dots, symbols, or anything else you can access via the keyboard (or beyond!), enclosed between two quotes, or between two double quotes. So, for example, typing `\"a\"` is a valid string in python:"
   ]
  },
  {
   "cell_type": "code",
   "execution_count": 5,
   "metadata": {
    "colab": {
     "base_uri": "https://localhost:8080/",
     "height": 35
    },
    "executionInfo": {
     "elapsed": 1251,
     "status": "ok",
     "timestamp": 1606972213929,
     "user": {
      "displayName": "Sherif Tawfik",
      "photoUrl": "https://lh6.googleusercontent.com/-pkq2qTyEGvM/AAAAAAAAAAI/AAAAAAAAFoA/jDXaFewCL-s/s64/photo.jpg",
      "userId": "08424006537682359657"
     },
     "user_tz": -660
    },
    "id": "f-8S6dJBl2CS",
    "outputId": "804691cf-2782-4086-c525-67aff481f350"
   },
   "outputs": [
    {
     "data": {
      "application/vnd.google.colaboratory.intrinsic+json": {
       "type": "string"
      },
      "text/plain": [
       "'a'"
      ]
     },
     "execution_count": 5,
     "metadata": {
      "tags": []
     },
     "output_type": "execute_result"
    }
   ],
   "source": [
    "'a'"
   ]
  },
  {
   "cell_type": "markdown",
   "metadata": {
    "id": "qXD7pboGl2ed"
   },
   "source": [
    "Here we just typed the string `\"a\"`, and python only repeated the value of that string, which again is `'a'`. Did you spot the difference?\n",
    "\n",
    "A string in python is composed of three things: an opening quotation mark, a set of characters, and a closing quotation mark. Python accepts two types of quotation marks: single, and double. So we can also type `'a'` up there, and we will get the same result.\n",
    "\n",
    "The string is an example of a python data type: it is something that represents a value.\n",
    "\n",
    "### Python data types: strings, numbers and boolean values\n",
    "\n",
    "Python has a number of data types that enable you to perform various types of operations on data. Here we discuss the fundamental three data types of python: strings, which we just discussed above, numbers and logical, or boolean values.\n",
    "\n",
    "Numbers are just numbers! Type a number in the python interpreter, say `5`, and you will just get `5` back.\n",
    "\n",
    "### Variables\n",
    "\n",
    "A variable in python, as well as in programming language, enables you to store a value in memory. Let us create a variable that will store the string value \"I love coffee\" in memory.\n"
   ]
  },
  {
   "cell_type": "code",
   "execution_count": 7,
   "metadata": {
    "colab": {
     "base_uri": "https://localhost:8080/"
    },
    "executionInfo": {
     "elapsed": 1160,
     "status": "ok",
     "timestamp": 1606972642851,
     "user": {
      "displayName": "Sherif Tawfik",
      "photoUrl": "https://lh6.googleusercontent.com/-pkq2qTyEGvM/AAAAAAAAAAI/AAAAAAAAFoA/jDXaFewCL-s/s64/photo.jpg",
      "userId": "08424006537682359657"
     },
     "user_tz": -660
    },
    "id": "Jb_90fG-mmus",
    "outputId": "16bf8eb8-06a0-4a29-d742-7d42ced15880"
   },
   "outputs": [
    {
     "name": "stdout",
     "output_type": "stream",
     "text": [
      "I love coffee\n",
      "1\n",
      "2\n"
     ]
    }
   ],
   "source": [
    "s = \"I love coffee\"\n",
    "print(s)\n",
    "\n",
    "a = 2\n",
    "b = 5\n",
    "c = b % a\n",
    "print(c)\n",
    "d = b // a\n",
    "print(d)\n"
   ]
  },
  {
   "cell_type": "markdown",
   "metadata": {
    "id": "ROSeuj2smnfn"
   },
   "source": [
    "\n",
    "\n",
    "\n",
    "### Arithmetic operations: `+`, `-`, `*`, `/`, `%`, `//`\n",
    "\n",
    "Back to operators. You can work with the standard maths operators in python, which are `+`, `-`, `*`, `/` and `%`. The first four are obvious, but `%` might need an introduction. The `//` operator is related to the `/`: it lets you get the quotient of the division, and therefore it is called the floor operator `//`. That is, it just removes the decimal part of the division result. For example, `9//4=2`.\n",
    "\n",
    "`%` is the modulus operator. It is related to the `//` operator in that: while `a//b`  gives you the integer *quotient*, `%` gives the *remainder*. For example, in the division `9/4=2+1/4`, the quotient is `2` and the remainder is `1`. Then in python, `9%4=1`.\n",
    "\n",
    "### Comparison operations: `==`, `!=`, `<`, `>`, `<=`, `>=`\n",
    "\n",
    "Now that we know how to use operators on numbers to create numbers, the above operators create boolean values. This is because they ask questions about the variables they operate on.\n",
    "\n",
    "- `a == b` means: is `a` exactly equal to `b`?\n",
    "- `a != b` means: is `a` **not** equal to `b`?\n",
    "- `a < b` means: is `a` less than `b`?\n",
    "- `a > b` means: is `a` greater than `b`?\n",
    "- `a <= b` means: is `a` less than **or equal to** `b`?\n",
    "- `a >= b` means: is `a` greater than **or equal to** `b`?\n",
    "\n",
    "Let's evaluate an expression baesd on these operators:\n"
   ]
  },
  {
   "cell_type": "code",
   "execution_count": 9,
   "metadata": {
    "colab": {
     "base_uri": "https://localhost:8080/"
    },
    "executionInfo": {
     "elapsed": 1122,
     "status": "ok",
     "timestamp": 1606972822152,
     "user": {
      "displayName": "Sherif Tawfik",
      "photoUrl": "https://lh6.googleusercontent.com/-pkq2qTyEGvM/AAAAAAAAAAI/AAAAAAAAFoA/jDXaFewCL-s/s64/photo.jpg",
      "userId": "08424006537682359657"
     },
     "user_tz": -660
    },
    "id": "87WtWTHtmwem",
    "outputId": "67966978-1c9d-4eef-8c56-8b62eabd2dcd"
   },
   "outputs": [
    {
     "name": "stdout",
     "output_type": "stream",
     "text": [
      "False\n",
      "False\n",
      "True\n"
     ]
    }
   ],
   "source": [
    "#This code demonstrates operations\n",
    "a = 3\n",
    "b = 5\n",
    "\n",
    "c = a == b\n",
    "print(c)\n",
    "d = a > b\n",
    "print(d)\n",
    "e = a <= b\n",
    "print(e)"
   ]
  },
  {
   "cell_type": "markdown",
   "metadata": {
    "id": "0vXbDFWkmxCA"
   },
   "source": [
    "\n",
    "### Lists\n",
    "A `list` in python is exactly what its name suggests, a list of things. Like a list of numbers, names, or even a mix of both. To create a list, we have to follow a simple syntax rule: enclose the things in the list between two *square brackets*, like those `[` and `]`, and separate between the list elements using commas, `,`. So for example, here is a list of numbers: `a = [4,6,7,1,0]`, a list of strings: `a = [\"a\",\"?\",\"neptune is a planet\"]`, a list of both: `a = [3,0,\"Where is my car?\"]`.\n",
    "\n",
    "Well, you can also create a list of lists in python! And you can *nest* as many lists as you want. Here is an example: `a = [[1,2],[3,4],[5,6]]`. This is a list of three elements, each element being itself a list of two elements.\n",
    "\n",
    "#### Accessing and changing list elements\n",
    "\n",
    "To access a list element, we apply this syntax rule: find out what the *order* of that element is, and then access it using the square brackets. The order of an element in a list is an integer. The order of the first element is always `0`. Here is an example.\n",
    "\n"
   ]
  },
  {
   "cell_type": "code",
   "execution_count": 10,
   "metadata": {
    "colab": {
     "base_uri": "https://localhost:8080/"
    },
    "executionInfo": {
     "elapsed": 1136,
     "status": "ok",
     "timestamp": 1606972978144,
     "user": {
      "displayName": "Sherif Tawfik",
      "photoUrl": "https://lh6.googleusercontent.com/-pkq2qTyEGvM/AAAAAAAAAAI/AAAAAAAAFoA/jDXaFewCL-s/s64/photo.jpg",
      "userId": "08424006537682359657"
     },
     "user_tz": -660
    },
    "id": "drih0wySnOF9",
    "outputId": "221af4bb-acfc-44d8-eca6-365e2b16e062"
   },
   "outputs": [
    {
     "name": "stdout",
     "output_type": "stream",
     "text": [
      "I\n"
     ]
    }
   ],
   "source": [
    "a = [\"I\",\"want\",\"to\",\"order\",\"the\",4,\"dollars\",\"mocha\"]\n",
    "print(a[0])"
   ]
  },
  {
   "cell_type": "markdown",
   "metadata": {
    "id": "hSv7Ml8JnOi1"
   },
   "source": [
    "The string `'I'` is the first element of list `a`, and therefore its index is `0` and can be retrieved by typing `a[0]`.\n",
    "\n",
    "We can change the element in a list by just assigning it a new value.\n",
    "\n"
   ]
  },
  {
   "cell_type": "code",
   "execution_count": 14,
   "metadata": {
    "colab": {
     "base_uri": "https://localhost:8080/"
    },
    "executionInfo": {
     "elapsed": 1121,
     "status": "ok",
     "timestamp": 1606973313750,
     "user": {
      "displayName": "Sherif Tawfik",
      "photoUrl": "https://lh6.googleusercontent.com/-pkq2qTyEGvM/AAAAAAAAAAI/AAAAAAAAFoA/jDXaFewCL-s/s64/photo.jpg",
      "userId": "08424006537682359657"
     },
     "user_tz": -660
    },
    "id": "Y79zlcCCnSIB",
    "outputId": "94889fc8-a9a8-426f-f28e-8893037511dd"
   },
   "outputs": [
    {
     "name": "stdout",
     "output_type": "stream",
     "text": [
      "['I', 'want', 'to', 'order', 'the', 'yes you can!', 'dollars', 'mocha']\n",
      "False\n",
      "['I', 'want', 'to', 'order', 'the', 'yes you can!', 'dollars', 'mocha', 4]\n",
      "What's your name? My name is Sherif\n"
     ]
    }
   ],
   "source": [
    "a = [\"I\",\"want\",\"to\",\"order\",\"the\",4,\"dollars\",\"mocha\"]\n",
    "a[5] = \"yes you can!\"\n",
    "print(a)\n",
    "\n",
    "print(2 in a)\n",
    "\n",
    "b = a + [4]\n",
    "print(b)\n",
    "\n",
    "print(\"What's your name?\"+\" My name is Sherif\")"
   ]
  },
  {
   "cell_type": "markdown",
   "metadata": {
    "id": "aCZnH_pZnYur"
   },
   "source": [
    "\n",
    "\n",
    "#### Checking if a value exists in a list\n",
    "\n",
    "To find if some value belongs to a given list, we use the `in` keyword in python. For example, given the list `a = [1,2,3]`, the boolean expression `2 in a` will return `True` because that's a correct statement.\n",
    "\n",
    "#### Adding elements to a list\n",
    "\n",
    "There are two ways to add elements to a list:\n",
    "- By using the `+` operator e.g. `[1,2,3]+[4]` gives `[1,2,3,4]`.\n",
    "- By using the `append()` function e.g. `a = [1,2,3];a.append(4);print(a)` gives `[1,2,3,4]`.\n",
    "- By using the `inset()` function if you want to add an item at a specified index e.g. `a = [1,2,3];a.insert(1,4);print(a)` gives `[1, 4, 2, 3]`.\n",
    "\n",
    "### Tuples\n",
    "\n",
    "A tuple, like a list, is a collection of things, but the things are enclosed between `(` and `)`. But there is even a more important difference: once you group things in a tuple, you cannot change them. That is, a tuple is *immutable*.\n",
    "\n",
    "For example, let's create a tuple and attempt to change the value of one of the elements.\n",
    "\n"
   ]
  },
  {
   "cell_type": "code",
   "execution_count": null,
   "metadata": {
    "colab": {
     "base_uri": "https://localhost:8080/",
     "height": 181
    },
    "executionInfo": {
     "elapsed": 2883,
     "status": "error",
     "timestamp": 1589329355526,
     "user": {
      "displayName": "Sherif Tawfik",
      "photoUrl": "https://lh6.googleusercontent.com/-pkq2qTyEGvM/AAAAAAAAAAI/AAAAAAAAFoA/jDXaFewCL-s/s64/photo.jpg",
      "userId": "08424006537682359657"
     },
     "user_tz": -600
    },
    "id": "M1K4K2txnkGS",
    "outputId": "89843c1b-1c81-4466-c8dc-635d0e2fbd12"
   },
   "outputs": [
    {
     "ename": "TypeError",
     "evalue": "ignored",
     "output_type": "error",
     "traceback": [
      "\u001b[0;31m---------------------------------------------------------------------------\u001b[0m",
      "\u001b[0;31mTypeError\u001b[0m                                 Traceback (most recent call last)",
      "\u001b[0;32m<ipython-input-10-90e635395eed>\u001b[0m in \u001b[0;36m<module>\u001b[0;34m()\u001b[0m\n\u001b[1;32m      1\u001b[0m \u001b[0ma\u001b[0m \u001b[0;34m=\u001b[0m \u001b[0;34m(\u001b[0m\u001b[0;36m3\u001b[0m\u001b[0;34m,\u001b[0m\u001b[0;36m4\u001b[0m\u001b[0;34m,\u001b[0m\u001b[0;36m5\u001b[0m\u001b[0;34m)\u001b[0m\u001b[0;34m\u001b[0m\u001b[0;34m\u001b[0m\u001b[0m\n\u001b[0;32m----> 2\u001b[0;31m \u001b[0ma\u001b[0m\u001b[0;34m[\u001b[0m\u001b[0;36m0\u001b[0m\u001b[0;34m]\u001b[0m \u001b[0;34m=\u001b[0m \u001b[0;36m2\u001b[0m\u001b[0;34m\u001b[0m\u001b[0;34m\u001b[0m\u001b[0m\n\u001b[0m",
      "\u001b[0;31mTypeError\u001b[0m: 'tuple' object does not support item assignment"
     ]
    }
   ],
   "source": [
    "a = (3,4,5)\n",
    "a[0] = 2"
   ]
  },
  {
   "cell_type": "markdown",
   "metadata": {
    "id": "3RhUTH5Onktx"
   },
   "source": [
    "### Dictionaries\n",
    "\n",
    "We learned in lists and tuples that the elements are indexed. The index is an integer that starts from `0`. A dictionary extends the indexing concept: a dictionary is a collection of indexed objects, where the indices themselves can be anything *immutable*: numbers, float, strings and tuples (and frozensets, but we won't discuss that one today).\n",
    "\n",
    "The syntax for creating a dictionary is as follows: `{key:value}`, where `key` is the index, `value` is any data type. For example,"
   ]
  },
  {
   "cell_type": "code",
   "execution_count": 15,
   "metadata": {
    "colab": {
     "base_uri": "https://localhost:8080/"
    },
    "executionInfo": {
     "elapsed": 1184,
     "status": "ok",
     "timestamp": 1606973555156,
     "user": {
      "displayName": "Sherif Tawfik",
      "photoUrl": "https://lh6.googleusercontent.com/-pkq2qTyEGvM/AAAAAAAAAAI/AAAAAAAAFoA/jDXaFewCL-s/s64/photo.jpg",
      "userId": "08424006537682359657"
     },
     "user_tz": -660
    },
    "id": "GvaSyHs3nuaI",
    "outputId": "45c30677-016c-4e29-9bb0-d789b972750b"
   },
   "outputs": [
    {
     "name": "stdout",
     "output_type": "stream",
     "text": [
      "3.5\n",
      "sets\n"
     ]
    }
   ],
   "source": [
    "#This is about dictionaries\n",
    "a = {'apple':3.5, 'pear': 2.5, 'banana':4}\n",
    "print(a['apple'])\n",
    "b = {'a':\"lists\",'b':\"tuples\",'c':\"sets\",'d':\"dictionaries\"}\n",
    "print(b['c'])\n",
    "\n"
   ]
  },
  {
   "cell_type": "markdown",
   "metadata": {
    "id": "JcUkc_xWnyj9"
   },
   "source": [
    "### Comments in python\n",
    "\n",
    "You can ask the python compiler to ignore a line of text by putting `#` at the start of the line:\n",
    "```\n",
    "# This is a commented line\n",
    "```\n",
    "\n",
    "### The conditional statement\n",
    "\n",
    "So far, we have been dealing with simple python statements. Each statement could be written in a single line of code, and they instructed the computer to perform a single task. For example, `a = 4` instructs the computer to put `4` into `a` and that's it.\n",
    "\n",
    "Serious programming starts when we let the computer make decisions after it tests certain conditions. Instead of just printing a name, how about we get the computer to print the name only **if** it starts with letter `A`?\n",
    "\n",
    "I just said **if**, which means: some condition should be tested before the print statement is executed. Now let me introduce the `if` statement in python. This statement has the following syntax:\n",
    "\n",
    "```\n",
    "if boolean_expression:\n",
    "  some_statements\n",
    "```\n",
    "\n",
    "The `boolean_expression` evaluates to either True or False. The `if` statement will only execute the statements if `boolean_expression` evaluates to `True`. Otherwise, these statements will not be executed.\n",
    "\n",
    "So, to solve the above problem, here is the code:\n"
   ]
  },
  {
   "cell_type": "code",
   "execution_count": 16,
   "metadata": {
    "colab": {
     "base_uri": "https://localhost:8080/"
    },
    "executionInfo": {
     "elapsed": 1240,
     "status": "ok",
     "timestamp": 1606973786322,
     "user": {
      "displayName": "Sherif Tawfik",
      "photoUrl": "https://lh6.googleusercontent.com/-pkq2qTyEGvM/AAAAAAAAAAI/AAAAAAAAFoA/jDXaFewCL-s/s64/photo.jpg",
      "userId": "08424006537682359657"
     },
     "user_tz": -660
    },
    "id": "POq5EaIsoAIO",
    "outputId": "1d3e9d10-6cab-41e6-9a66-53407868b2e7"
   },
   "outputs": [
    {
     "name": "stdout",
     "output_type": "stream",
     "text": [
      "Ahmed\n"
     ]
    }
   ],
   "source": [
    "s = 'Ahmed'\n",
    "if s[0] == 'A':\n",
    "  print(s)"
   ]
  },
  {
   "cell_type": "markdown",
   "metadata": {
    "id": "_KNLLHRUoBf3"
   },
   "source": [
    "#### The `elif` clause\n",
    "\n",
    "Sometimes the condition we are testing might evaluate to more than two possible outcomes. For a simple demonstration: I will decide to put on a jacket if it's very cold outside. But if it's fair, maybe just a jumper. Otherwise, a t-shirt. So here we have three possible outcomes for the condition testing. The testing will check the temperature, and decide accordingly."
   ]
  },
  {
   "cell_type": "code",
   "execution_count": null,
   "metadata": {
    "colab": {
     "base_uri": "https://localhost:8080/",
     "height": 34
    },
    "executionInfo": {
     "elapsed": 738,
     "status": "ok",
     "timestamp": 1592293646410,
     "user": {
      "displayName": "Sherif Tawfik",
      "photoUrl": "https://lh6.googleusercontent.com/-pkq2qTyEGvM/AAAAAAAAAAI/AAAAAAAAFoA/jDXaFewCL-s/s64/photo.jpg",
      "userId": "08424006537682359657"
     },
     "user_tz": -600
    },
    "id": "IjCvJX21oJUj",
    "outputId": "ea14d6c6-2734-4601-f9f4-8dfaf763d53d"
   },
   "outputs": [
    {
     "name": "stdout",
     "output_type": "stream",
     "text": [
      "I am wearing a t-shirt\n"
     ]
    }
   ],
   "source": [
    "temperature = 30\n",
    "if temperature < 15:\n",
    "  print('I am wearing a jacket')\n",
    "elif temperature < 20:\n",
    "  print('I am wearing a jumper')\n",
    "else:\n",
    "  print('I am wearing a t-shirt')"
   ]
  },
  {
   "cell_type": "markdown",
   "metadata": {
    "id": "AjZwET3boLQq"
   },
   "source": [
    "### The loop statements\n",
    "\n",
    "Python has two loop statements: the `for` and the `while` loop statements. The loop is a very important programming construct. It enables you to repetitively run a block of statements as long as a given condition is correct. Loops let us start write complex code that can solve complex problems; it is actually the starting point for doing serious programming!\n",
    "\n",
    "#### The `for` loop\n",
    "\n",
    "The syntax of the `for` loop is:\n",
    "\n",
    "```\n",
    "for x in collection:\n",
    "    statement1\n",
    "    statement2\n",
    "    ...\n",
    "    statementN\n",
    "```\n",
    "\n",
    "Here `collection` could be any of the four collection types in python that we covered in Class 3. Note the `in` operator here.\n",
    "\n",
    "In the `for` statement, `x` is called the *index* of the loop.\n",
    "\n",
    "For example, the following loop will print out the elements from a list:\n"
   ]
  },
  {
   "cell_type": "code",
   "execution_count": null,
   "metadata": {
    "colab": {
     "base_uri": "https://localhost:8080/",
     "height": 68
    },
    "executionInfo": {
     "elapsed": 1087,
     "status": "ok",
     "timestamp": 1589329569344,
     "user": {
      "displayName": "Sherif Tawfik",
      "photoUrl": "https://lh6.googleusercontent.com/-pkq2qTyEGvM/AAAAAAAAAAI/AAAAAAAAFoA/jDXaFewCL-s/s64/photo.jpg",
      "userId": "08424006537682359657"
     },
     "user_tz": -600
    },
    "id": "8ZWkj1JUoWc1",
    "outputId": "6e7a2c06-0644-471b-d792-62cf7587f352"
   },
   "outputs": [
    {
     "name": "stdout",
     "output_type": "stream",
     "text": [
      "1\n",
      "2\n",
      "3\n"
     ]
    }
   ],
   "source": [
    "for k in [1,2,3]:\n",
    "  print(k)"
   ]
  },
  {
   "cell_type": "markdown",
   "metadata": {
    "id": "YAMq-Y7KoW_x"
   },
   "source": [
    "\n",
    "#### The `while` loop\n",
    "\n",
    "The syntax of the `while` loop is:\n",
    "\n",
    "```\n",
    "while x:\n",
    "    statement1\n",
    "    statement2\n",
    "    ...\n",
    "    statementN\n",
    "```\n",
    "\n",
    "The `while` loop keeps running the statement block as long as `x` is true. So `x` here is a boolean expression. For example:\n"
   ]
  },
  {
   "cell_type": "code",
   "execution_count": null,
   "metadata": {
    "colab": {
     "base_uri": "https://localhost:8080/",
     "height": 187
    },
    "executionInfo": {
     "elapsed": 661,
     "status": "ok",
     "timestamp": 1589329569861,
     "user": {
      "displayName": "Sherif Tawfik",
      "photoUrl": "https://lh6.googleusercontent.com/-pkq2qTyEGvM/AAAAAAAAAAI/AAAAAAAAFoA/jDXaFewCL-s/s64/photo.jpg",
      "userId": "08424006537682359657"
     },
     "user_tz": -600
    },
    "id": "EfYLiNSGod7-",
    "outputId": "85303ad6-9dfd-4db4-95cd-a9ae12fd037c"
   },
   "outputs": [
    {
     "name": "stdout",
     "output_type": "stream",
     "text": [
      "10\n",
      "9\n",
      "8\n",
      "7\n",
      "6\n",
      "5\n",
      "4\n",
      "3\n",
      "2\n",
      "1\n"
     ]
    }
   ],
   "source": [
    "a = 10\n",
    "while a > 0:\n",
    "  print(a)\n",
    "  #a-=1\n",
    "  a = a - 1"
   ]
  },
  {
   "cell_type": "markdown",
   "metadata": {
    "id": "KMdXrWVIoniG"
   },
   "source": [
    "### Importing python libraries\n",
    "\n",
    "One of the most powerful features of python is its libraries. A library is a python script that was written by someone, and that can perform a set of tasks. You can make use of a python library by just using the `import` command. For example, when you want to calculate the logarithm, the `log()` function you would look for exists in the `numpy` library.\n"
   ]
  },
  {
   "cell_type": "code",
   "execution_count": null,
   "metadata": {
    "colab": {
     "base_uri": "https://localhost:8080/",
     "height": 68
    },
    "executionInfo": {
     "elapsed": 3951,
     "status": "ok",
     "timestamp": 1592293949194,
     "user": {
      "displayName": "Sherif Tawfik",
      "photoUrl": "https://lh6.googleusercontent.com/-pkq2qTyEGvM/AAAAAAAAAAI/AAAAAAAAFoA/jDXaFewCL-s/s64/photo.jpg",
      "userId": "08424006537682359657"
     },
     "user_tz": -600
    },
    "id": "lyfTv592THUG",
    "outputId": "409a5098-c609-474e-ddda-594f18f1c25e"
   },
   "outputs": [
    {
     "name": "stdout",
     "output_type": "stream",
     "text": [
      "Requirement already satisfied: bs4 in /usr/local/lib/python3.6/dist-packages (0.0.1)\n",
      "Requirement already satisfied: beautifulsoup4 in /usr/local/lib/python3.6/dist-packages (from bs4) (4.6.3)\n",
      "2.3978952727983707\n"
     ]
    }
   ],
   "source": [
    "!pip3 install bs4\n",
    "import numpy as np\n",
    "print(np.log(11))"
   ]
  },
  {
   "cell_type": "markdown",
   "metadata": {
    "id": "R4qOwWoVeTBP"
   },
   "source": [
    "Note: we use the `import` to import a library, and the `as` to give the library an alias. Another way to import is:\n"
   ]
  },
  {
   "cell_type": "code",
   "execution_count": null,
   "metadata": {
    "colab": {
     "base_uri": "https://localhost:8080/",
     "height": 34
    },
    "executionInfo": {
     "elapsed": 732,
     "status": "ok",
     "timestamp": 1592293999773,
     "user": {
      "displayName": "Sherif Tawfik",
      "photoUrl": "https://lh6.googleusercontent.com/-pkq2qTyEGvM/AAAAAAAAAAI/AAAAAAAAFoA/jDXaFewCL-s/s64/photo.jpg",
      "userId": "08424006537682359657"
     },
     "user_tz": -600
    },
    "id": "hpC-srZ1MKCi",
    "outputId": "cbb3b2f4-0d7a-4fe8-c69c-e96bc8c6bf21"
   },
   "outputs": [
    {
     "name": "stdout",
     "output_type": "stream",
     "text": [
      "-0.5440211108893698\n"
     ]
    }
   ],
   "source": [
    "from numpy import sin\n",
    "print(sin(10))"
   ]
  }
 ],
 "metadata": {
  "colab": {
   "authorship_tag": "ABX9TyMq+tWShocQCyZE/zCD8OQb",
   "collapsed_sections": [],
   "name": "PythonForMachineLearning.ipynb",
   "provenance": [
    {
     "file_id": "1p6ORktVuni6dhGLB70WM_PLbdPvrDh_N",
     "timestamp": 1592230438659
    }
   ]
  },
  "interpreter": {
   "hash": "767d51c1340bd893661ea55ea3124f6de3c7a262a8b4abca0554b478b1e2ff90"
  },
  "kernelspec": {
   "display_name": "Python 3.8.10 64-bit",
   "name": "python3"
  },
  "language_info": {
   "codemirror_mode": {
    "name": "ipython",
    "version": 3
   },
   "file_extension": ".py",
   "mimetype": "text/x-python",
   "name": "python",
   "nbconvert_exporter": "python",
   "pygments_lexer": "ipython3",
   "version": "3.8.10"
  }
 },
 "nbformat": 4,
 "nbformat_minor": 1
}
